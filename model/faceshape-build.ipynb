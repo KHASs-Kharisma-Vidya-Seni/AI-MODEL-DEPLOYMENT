{
 "cells": [
  {
   "cell_type": "code",
   "execution_count": 1,
   "metadata": {
    "_cell_guid": "b1076dfc-b9ad-4769-8c92-a6c4dae69d19",
    "_uuid": "8f2839f25d086af736a60e9eeb907d3b93b6e0e5"
   },
   "outputs": [
    {
     "name": "stderr",
     "output_type": "stream",
     "text": [
      "/opt/conda/lib/python3.6/site-packages/h5py/__init__.py:36: FutureWarning: Conversion of the second argument of issubdtype from `float` to `np.floating` is deprecated. In future, it will be treated as `np.float64 == np.dtype(float).type`.\n",
      "  from ._conv import register_converters as _register_converters\n",
      "Using TensorFlow backend.\n"
     ]
    }
   ],
   "source": [
    "# This Python 3 environment comes with many helpful analytics libraries installed\n",
    "# It is defined by the kaggle/python docker image: https://github.com/kaggle/docker-python\n",
    "# For example, here's several helpful packages to load in \n",
    "\n",
    "import os\n",
    "import glob\n",
    "import h5py\n",
    "from PIL import Image\n",
    "from keras.models import Sequential, Model\n",
    "from keras.applications.vgg16 import VGG16, preprocess_input\n",
    "from keras.preprocessing.image import ImageDataGenerator,load_img, img_to_array\n",
    "from keras.models import Sequential\n",
    "from keras.layers import Conv2D, MaxPooling2D, Dense, Dropout, Input, Flatten, SeparableConv2D\n",
    "from keras.layers import GlobalMaxPooling2D\n",
    "from keras.layers.normalization import BatchNormalization\n",
    "from keras.models import Model\n",
    "from keras.optimizers import Adam, SGD, RMSprop\n",
    "from keras.callbacks import ModelCheckpoint, Callback, EarlyStopping\n",
    "from keras.utils import to_categorical\n",
    "from keras import backend as K\n",
    "import numpy as np\n"
   ]
  },
  {
   "cell_type": "markdown",
   "metadata": {},
   "source": [
    "creating the generators"
   ]
  },
  {
   "cell_type": "code",
   "execution_count": 2,
   "metadata": {},
   "outputs": [
    {
     "name": "stdout",
     "output_type": "stream",
     "text": [
      "Found 4000 images belonging to 5 classes.\n",
      "Found 4000 images belonging to 5 classes.\n"
     ]
    }
   ],
   "source": [
    "\n",
    "batch_size = 16  #was 16\n",
    "train_images = '../input/face-shape-dataset/FaceShape Dataset/training_set'\n",
    "test_images = '../input/face-shape-dataset/FaceShape Dataset/training_set'\n",
    "\n",
    "TrainDatagen = ImageDataGenerator(\n",
    "        preprocessing_function= preprocess_input,\n",
    "        horizontal_flip = True\n",
    "\n",
    "\n",
    ")\n",
    "\n",
    "TestDatagen = ImageDataGenerator(\n",
    "    preprocessing_function= preprocess_input\n",
    "\n",
    ")\n",
    "\n",
    "train_data = TrainDatagen.flow_from_directory(\n",
    "    train_images,\n",
    "    target_size = (224,224),\n",
    "    batch_size =batch_size,\n",
    "    class_mode = 'categorical'\n",
    "\n",
    "\n",
    ")\n",
    "\n",
    "test_data = TestDatagen.flow_from_directory(\n",
    "    test_images,\n",
    "    target_size = (224,224),\n",
    "    batch_size = batch_size,\n",
    "    class_mode = 'categorical'\n",
    ")"
   ]
  },
  {
   "cell_type": "code",
   "execution_count": 3,
   "metadata": {
    "_cell_guid": "118d98a9-c5f4-4288-bf41-a67080657af2",
    "_uuid": "6288e9af327d72237ec04364ae5d14ff1d490061"
   },
   "outputs": [],
   "source": [
    "def build_model():\n",
    "    input_img = Input(shape=(224,224,3), name='ImageInput')\n",
    "    x = Conv2D(64, (3,3), activation='relu', padding='same', name='Conv1_1')(input_img)\n",
    "    x = Conv2D(64, (3,3), activation='relu', padding='same', name='Conv1_2')(x)\n",
    "    x = MaxPooling2D((2,2), name='pool1')(x)\n",
    "    \n",
    "    x = SeparableConv2D(128, (3,3), activation='relu', padding='same', name='Conv2_1')(x)\n",
    "    x = SeparableConv2D(128, (3,3), activation='relu', padding='same', name='Conv2_2')(x)\n",
    "    x = MaxPooling2D((2,2), name='pool2')(x)\n",
    "    \n",
    "    x = SeparableConv2D(256, (3,3), activation='relu', padding='same', name='Conv3_1')(x)\n",
    "    x = BatchNormalization(name='bn1')(x)\n",
    "    x = SeparableConv2D(256, (3,3), activation='relu', padding='same', name='Conv3_2')(x)\n",
    "    x = BatchNormalization(name='bn2')(x)\n",
    "    x = SeparableConv2D(256, (3,3), activation='relu', padding='same', name='Conv3_3')(x)\n",
    "    x = MaxPooling2D((2,2), name='pool3')(x)\n",
    "    \n",
    "    x = SeparableConv2D(512, (3,3), activation='relu', padding='same', name='Conv4_1')(x)\n",
    "    x = BatchNormalization(name='bn3')(x)\n",
    "    x = SeparableConv2D(512, (3,3), activation='relu', padding='same', name='Conv4_2')(x)\n",
    "    x = BatchNormalization(name='bn4')(x)\n",
    "    x = SeparableConv2D(512, (3,3), activation='relu', padding='same', name='Conv4_3')(x)\n",
    "    x = MaxPooling2D((2,2), name='pool4')(x)\n",
    "    \n",
    "    x = Flatten(name='flatten')(x)\n",
    "    x = Dense(1024, activation='relu', name='fc1')(x)\n",
    "    x = Dropout(0.7, name='dropout1')(x)\n",
    "    x = Dense(512, activation='relu', name='fc2')(x)\n",
    "    x = Dropout(0.5, name='dropout2')(x)\n",
    "    x = Dense(5, activation='softmax', name='fc3')(x)\n",
    "    \n",
    "    model = Model(inputs=input_img, outputs=x)\n",
    "    return model"
   ]
  },
  {
   "cell_type": "code",
   "execution_count": 4,
   "metadata": {
    "_cell_guid": "37863ed3-1814-437d-8db1-7d56283f0a87",
    "_uuid": "b34d477061729a390c947d4b9ee2473b068294ec"
   },
   "outputs": [
    {
     "name": "stdout",
     "output_type": "stream",
     "text": [
      "_________________________________________________________________\n",
      "Layer (type)                 Output Shape              Param #   \n",
      "=================================================================\n",
      "ImageInput (InputLayer)      (None, 224, 224, 3)       0         \n",
      "_________________________________________________________________\n",
      "Conv1_1 (Conv2D)             (None, 224, 224, 64)      1792      \n",
      "_________________________________________________________________\n",
      "Conv1_2 (Conv2D)             (None, 224, 224, 64)      36928     \n",
      "_________________________________________________________________\n",
      "pool1 (MaxPooling2D)         (None, 112, 112, 64)      0         \n",
      "_________________________________________________________________\n",
      "Conv2_1 (SeparableConv2D)    (None, 112, 112, 128)     8896      \n",
      "_________________________________________________________________\n",
      "Conv2_2 (SeparableConv2D)    (None, 112, 112, 128)     17664     \n",
      "_________________________________________________________________\n",
      "pool2 (MaxPooling2D)         (None, 56, 56, 128)       0         \n",
      "_________________________________________________________________\n",
      "Conv3_1 (SeparableConv2D)    (None, 56, 56, 256)       34176     \n",
      "_________________________________________________________________\n",
      "bn1 (BatchNormalization)     (None, 56, 56, 256)       1024      \n",
      "_________________________________________________________________\n",
      "Conv3_2 (SeparableConv2D)    (None, 56, 56, 256)       68096     \n",
      "_________________________________________________________________\n",
      "bn2 (BatchNormalization)     (None, 56, 56, 256)       1024      \n",
      "_________________________________________________________________\n",
      "Conv3_3 (SeparableConv2D)    (None, 56, 56, 256)       68096     \n",
      "_________________________________________________________________\n",
      "pool3 (MaxPooling2D)         (None, 28, 28, 256)       0         \n",
      "_________________________________________________________________\n",
      "Conv4_1 (SeparableConv2D)    (None, 28, 28, 512)       133888    \n",
      "_________________________________________________________________\n",
      "bn3 (BatchNormalization)     (None, 28, 28, 512)       2048      \n",
      "_________________________________________________________________\n",
      "Conv4_2 (SeparableConv2D)    (None, 28, 28, 512)       267264    \n",
      "_________________________________________________________________\n",
      "bn4 (BatchNormalization)     (None, 28, 28, 512)       2048      \n",
      "_________________________________________________________________\n",
      "Conv4_3 (SeparableConv2D)    (None, 28, 28, 512)       267264    \n",
      "_________________________________________________________________\n",
      "pool4 (MaxPooling2D)         (None, 14, 14, 512)       0         \n",
      "_________________________________________________________________\n",
      "flatten (Flatten)            (None, 100352)            0         \n",
      "_________________________________________________________________\n",
      "fc1 (Dense)                  (None, 1024)              102761472 \n",
      "_________________________________________________________________\n",
      "dropout1 (Dropout)           (None, 1024)              0         \n",
      "_________________________________________________________________\n",
      "fc2 (Dense)                  (None, 512)               524800    \n",
      "_________________________________________________________________\n",
      "dropout2 (Dropout)           (None, 512)               0         \n",
      "_________________________________________________________________\n",
      "fc3 (Dense)                  (None, 5)                 2565      \n",
      "=================================================================\n",
      "Total params: 104,199,045\n",
      "Trainable params: 104,195,973\n",
      "Non-trainable params: 3,072\n",
      "_________________________________________________________________\n"
     ]
    }
   ],
   "source": [
    "model =  build_model()\n",
    "model.summary()"
   ]
  },
  {
   "cell_type": "code",
   "execution_count": 5,
   "metadata": {
    "_cell_guid": "556f2cd2-a824-498a-afad-824dc4d7a951",
    "_uuid": "6ca55c4ce3478d075c36dbf29d3d1890ef6d301f"
   },
   "outputs": [
    {
     "name": "stdout",
     "output_type": "stream",
     "text": [
      "_________________________________________________________________\n",
      "Layer (type)                 Output Shape              Param #   \n",
      "=================================================================\n",
      "ImageInput (InputLayer)      (None, 224, 224, 3)       0         \n",
      "_________________________________________________________________\n",
      "Conv1_1 (Conv2D)             (None, 224, 224, 64)      1792      \n",
      "_________________________________________________________________\n",
      "Conv1_2 (Conv2D)             (None, 224, 224, 64)      36928     \n",
      "_________________________________________________________________\n",
      "pool1 (MaxPooling2D)         (None, 112, 112, 64)      0         \n",
      "_________________________________________________________________\n",
      "Conv2_1 (SeparableConv2D)    (None, 112, 112, 128)     8896      \n",
      "_________________________________________________________________\n",
      "Conv2_2 (SeparableConv2D)    (None, 112, 112, 128)     17664     \n",
      "_________________________________________________________________\n",
      "pool2 (MaxPooling2D)         (None, 56, 56, 128)       0         \n",
      "_________________________________________________________________\n",
      "Conv3_1 (SeparableConv2D)    (None, 56, 56, 256)       34176     \n",
      "_________________________________________________________________\n",
      "bn1 (BatchNormalization)     (None, 56, 56, 256)       1024      \n",
      "_________________________________________________________________\n",
      "Conv3_2 (SeparableConv2D)    (None, 56, 56, 256)       68096     \n",
      "_________________________________________________________________\n",
      "bn2 (BatchNormalization)     (None, 56, 56, 256)       1024      \n",
      "_________________________________________________________________\n",
      "Conv3_3 (SeparableConv2D)    (None, 56, 56, 256)       68096     \n",
      "_________________________________________________________________\n",
      "pool3 (MaxPooling2D)         (None, 28, 28, 256)       0         \n",
      "_________________________________________________________________\n",
      "Conv4_1 (SeparableConv2D)    (None, 28, 28, 512)       133888    \n",
      "_________________________________________________________________\n",
      "bn3 (BatchNormalization)     (None, 28, 28, 512)       2048      \n",
      "_________________________________________________________________\n",
      "Conv4_2 (SeparableConv2D)    (None, 28, 28, 512)       267264    \n",
      "_________________________________________________________________\n",
      "bn4 (BatchNormalization)     (None, 28, 28, 512)       2048      \n",
      "_________________________________________________________________\n",
      "Conv4_3 (SeparableConv2D)    (None, 28, 28, 512)       267264    \n",
      "_________________________________________________________________\n",
      "pool4 (MaxPooling2D)         (None, 14, 14, 512)       0         \n",
      "_________________________________________________________________\n",
      "flatten (Flatten)            (None, 100352)            0         \n",
      "_________________________________________________________________\n",
      "fc1 (Dense)                  (None, 1024)              102761472 \n",
      "_________________________________________________________________\n",
      "dropout1 (Dropout)           (None, 1024)              0         \n",
      "_________________________________________________________________\n",
      "fc2 (Dense)                  (None, 512)               524800    \n",
      "_________________________________________________________________\n",
      "dropout2 (Dropout)           (None, 512)               0         \n",
      "_________________________________________________________________\n",
      "fc3 (Dense)                  (None, 5)                 2565      \n",
      "=================================================================\n",
      "Total params: 104,199,045\n",
      "Trainable params: 104,195,973\n",
      "Non-trainable params: 3,072\n",
      "_________________________________________________________________\n"
     ]
    }
   ],
   "source": [
    "# Open the VGG16 weight file\n",
    "# f = h5py.File('../input/vgg16/vgg16_weights_tf_dim_ordering_tf_kernels_notop.h5', 'r')\n",
    "\n",
    "# # Select the layers for which you want to set weight.\n",
    "\n",
    "# w,b = f['block1_conv1']['block1_conv1_W_1:0'], f['block1_conv1']['block1_conv1_b_1:0']\n",
    "# model.layers[1].set_weights = [w,b]\n",
    "\n",
    "# w,b = f['block1_conv2']['block1_conv2_W_1:0'], f['block1_conv2']['block1_conv2_b_1:0']\n",
    "# model.layers[2].set_weights = [w,b]\n",
    "\n",
    "# w,b = f['block2_conv1']['block2_conv1_W_1:0'], f['block2_conv1']['block2_conv1_b_1:0']\n",
    "# model.layers[4].set_weights = [w,b]\n",
    "\n",
    "# w,b = f['block2_conv2']['block2_conv2_W_1:0'], f['block2_conv2']['block2_conv2_b_1:0']\n",
    "# model.layers[5].set_weights = [w,b]\n",
    "\n",
    "# f.close()\n",
    "model.summary()    "
   ]
  },
  {
   "cell_type": "code",
   "execution_count": 6,
   "metadata": {
    "_cell_guid": "87cd9cae-b836-4470-84fd-56a83f5e82c8",
    "_uuid": "15295c609c87c11f943aa0ed24055ca65bbd57f2"
   },
   "outputs": [],
   "source": [
    "# opt = RMSprop(lr=0.0001, decay=1e-6)\n",
    "opt = Adam(lr=0.0001, decay=1e-5)\n",
    "es = EarlyStopping(patience=5,min_delta= .05, monitor=\"val_acc\")\n",
    "chkpt = ModelCheckpoint(filepath='best_model_todate', save_best_only=True, save_weights_only=True)\n",
    "model.compile(loss='categorical_crossentropy', metrics=['accuracy'],optimizer=opt)"
   ]
  },
  {
   "cell_type": "code",
   "execution_count": 7,
   "metadata": {
    "_cell_guid": "7005e3d2-0b62-4f14-8def-ef0af971b6fd",
    "_uuid": "0cfc4e08fdea211ff50c400b143dad1be126e226"
   },
   "outputs": [
    {
     "name": "stdout",
     "output_type": "stream",
     "text": [
      "WARNING:tensorflow:Variable *= will be deprecated. Use variable.assign_mul if you want assignment to the variable value or 'x = x * y' if you want a new python Tensor object.\n",
      "Epoch 1/50\n",
      "250/250 [==============================] - 134s 537ms/step - loss: 1.6099 - acc: 0.1948 - val_loss: 1.6069 - val_acc: 0.2013\n",
      "Epoch 2/50\n",
      "250/250 [==============================] - 120s 481ms/step - loss: 1.5948 - acc: 0.2355 - val_loss: 1.5643 - val_acc: 0.2895\n",
      "Epoch 3/50\n",
      "250/250 [==============================] - 122s 489ms/step - loss: 1.5415 - acc: 0.3028 - val_loss: 1.5091 - val_acc: 0.3705\n",
      "Epoch 4/50\n",
      "250/250 [==============================] - 122s 488ms/step - loss: 1.4624 - acc: 0.3575 - val_loss: 1.4047 - val_acc: 0.4128\n",
      "Epoch 5/50\n",
      "250/250 [==============================] - 124s 496ms/step - loss: 1.4130 - acc: 0.3872 - val_loss: 1.3601 - val_acc: 0.4163\n",
      "Epoch 6/50\n",
      "250/250 [==============================] - 123s 492ms/step - loss: 1.3498 - acc: 0.4238 - val_loss: 1.2399 - val_acc: 0.4878\n",
      "Epoch 7/50\n",
      "250/250 [==============================] - 125s 501ms/step - loss: 1.3035 - acc: 0.4495 - val_loss: 1.1853 - val_acc: 0.5238\n",
      "Epoch 8/50\n",
      "250/250 [==============================] - 123s 493ms/step - loss: 1.2524 - acc: 0.4815 - val_loss: 1.1945 - val_acc: 0.5225\n",
      "Epoch 9/50\n",
      "250/250 [==============================] - 123s 494ms/step - loss: 1.2021 - acc: 0.5012 - val_loss: 1.1352 - val_acc: 0.5510\n",
      "Epoch 10/50\n",
      "250/250 [==============================] - 124s 495ms/step - loss: 1.1433 - acc: 0.5277 - val_loss: 1.0249 - val_acc: 0.6038\n",
      "Epoch 11/50\n",
      "250/250 [==============================] - 121s 482ms/step - loss: 1.0796 - acc: 0.5617 - val_loss: 0.9472 - val_acc: 0.6540\n",
      "Epoch 12/50\n",
      "250/250 [==============================] - 124s 497ms/step - loss: 1.0347 - acc: 0.5897 - val_loss: 0.9106 - val_acc: 0.6610\n",
      "Epoch 13/50\n",
      "250/250 [==============================] - 124s 498ms/step - loss: 0.9730 - acc: 0.6125 - val_loss: 0.8222 - val_acc: 0.7123\n",
      "Epoch 14/50\n",
      "250/250 [==============================] - 126s 504ms/step - loss: 0.9126 - acc: 0.6375 - val_loss: 0.7802 - val_acc: 0.7003\n",
      "Epoch 15/50\n",
      "250/250 [==============================] - 122s 489ms/step - loss: 0.8389 - acc: 0.6735 - val_loss: 0.7313 - val_acc: 0.7330\n",
      "Epoch 16/50\n",
      "250/250 [==============================] - 128s 512ms/step - loss: 0.7769 - acc: 0.6952 - val_loss: 0.7182 - val_acc: 0.7240\n",
      "Epoch 17/50\n",
      "250/250 [==============================] - 131s 526ms/step - loss: 0.7174 - acc: 0.7177 - val_loss: 0.6391 - val_acc: 0.7548\n",
      "Epoch 18/50\n",
      "250/250 [==============================] - 138s 551ms/step - loss: 0.6544 - acc: 0.7570 - val_loss: 0.4501 - val_acc: 0.8345\n",
      "Epoch 19/50\n",
      "250/250 [==============================] - 126s 506ms/step - loss: 0.5876 - acc: 0.7745 - val_loss: 0.4551 - val_acc: 0.8460\n",
      "Epoch 20/50\n",
      "250/250 [==============================] - 126s 504ms/step - loss: 0.5249 - acc: 0.8045 - val_loss: 0.3532 - val_acc: 0.8725\n",
      "Epoch 21/50\n",
      "250/250 [==============================] - 128s 513ms/step - loss: 0.4759 - acc: 0.8267 - val_loss: 0.3313 - val_acc: 0.8798\n",
      "Epoch 22/50\n",
      "199/250 [======================>.......] - ETA: 14s - loss: 0.4310 - acc: 0.8351"
     ]
    }
   ],
   "source": [
    "# Fit the model\n",
    "from PIL import ImageFile\n",
    "ImageFile.LOAD_TRUNCATED_IMAGES = True\n",
    "history = model.fit_generator(\n",
    "    train_data,              \n",
    "    steps_per_epoch = train_data.samples//batch_size,\n",
    "    validation_data = test_data,\n",
    "    validation_steps = test_data.samples//batch_size,\n",
    "    epochs = 50,\n",
    "    callbacks=[es,chkpt]\n",
    ")"
   ]
  },
  {
   "cell_type": "code",
   "execution_count": 8,
   "metadata": {},
   "outputs": [
    {
     "data": {
      "image/png": "[encoded data removed]",
      "text/plain": [
       "<matplotlib.figure.Figure at 0x7f4301f89470>"
      ]
     },
     "metadata": {},
     "output_type": "display_data"
    },
    {
     "data": {
      "image/png": "[encoded data removed]",
      "text/plain": [
       "<matplotlib.figure.Figure at 0x7f4301fcd898>"
      ]
     },
     "metadata": {},
     "output_type": "display_data"
    }
   ],
   "source": [
    "acc = history.history['acc']\n",
    "val_acc = history.history['val_acc']\n",
    "\n",
    "loss = history.history['loss']\n",
    "val_loss = history.history['val_loss']\n",
    "\n",
    "import matplotlib.pyplot as plt\n",
    "\n",
    "\n",
    "epochs = range(len(acc))\n",
    "plt.plot(epochs,acc,'bo',label='Training acc')\n",
    "plt.plot(epochs,val_acc,'r',label='Validation acc')\n",
    "plt.legend()\n",
    "\n",
    "\n",
    "plt.figure()\n",
    "plt.plot(epochs,loss,'bo',label='Training loss')\n",
    "plt.plot(epochs,val_loss,'r',label='Validation loss')\n",
    "\n",
    "plt.legend()\n",
    "plt.show()"
   ]
  },
  {
   "cell_type": "code",
   "execution_count": 9,
   "metadata": {},
   "outputs": [],
   "source": []
  },
  {
   "cell_type": "code",
   "execution_count": 9,
   "metadata": {},
   "outputs": [],
   "source": [
    "model.save('new_face_classifier.h5')"
   ]
  },
  {
   "cell_type": "code",
   "execution_count": 10,
   "metadata": {
    "_uuid": "bcda8ddec0c440e1de216905807e6f63d741743f"
   },
   "outputs": [],
   "source": [
    "model.save_weights('new_model_weights.h5')"
   ]
  },
  {
   "cell_type": "code",
   "execution_count": 11,
   "metadata": {},
   "outputs": [],
   "source": []
  }
 ],
 "metadata": {
  "kernelspec": {
   "display_name": "Python 3",
   "language": "python",
   "name": "python3"
  },
  "language_info": {
   "codemirror_mode": {
    "name": "ipython",
    "version": 3
   },
   "file_extension": ".py",
   "mimetype": "text/x-python",
   "name": "python",
   "nbconvert_exporter": "python",
   "pygments_lexer": "ipython3",
   "version": "3.6.4"
  }
 },
 "nbformat": 4,
 "nbformat_minor": 4
}
